{
 "cells": [
  {
   "cell_type": "markdown",
   "id": "dfa37f65-48da-4d77-8d1c-ead89e543829",
   "metadata": {
    "tags": []
   },
   "source": [
    "<center><h1>Yu-Chieh Chen</h3></center>\n",
    "<center><h4>GitHub Username: ychen221</h4></center>\n",
    "<center><h4>USCID: 6391765959</h4></center>\n",
    "<br>"
   ]
  },
  {
   "cell_type": "markdown",
   "id": "a156bf13-c7c7-448b-be61-41e536dc0967",
   "metadata": {},
   "source": [
    "## 1. Text Classification"
   ]
  },
  {
   "cell_type": "markdown",
   "id": "8d5823a7-8b3a-49b0-ae0b-564f3ed974f7",
   "metadata": {},
   "source": [
    "### (a) In this problem, we are trying to build a classifier to analyze the sentiment of reviews. You are provided with text data in two folders: one folder involves positive reviews, and one folder involves negative reviews."
   ]
  },
  {
   "cell_type": "markdown",
   "id": "37b31459-ce95-4d05-8f7f-f7cd8625b4f6",
   "metadata": {},
   "source": [
    "### (b) Data Exploration and Pre-processing"
   ]
  },
  {
   "cell_type": "markdown",
   "id": "09977699-de41-4eec-82b5-430a97d2ebf1",
   "metadata": {},
   "source": [
    "#### i.You can use binary encoding for the sentiments , i.e y = 1 for positive senti- ments and y = − 1 for negative sentiments. \n",
    "#### ii. The data are pretty clean. Remove the punctuation and numbers from the data. \n",
    "#### iii. The name of each text file starts with cv number . Use text files 0-699 in each class for training and 700-999 for testing. \n",
    "#### iv. Count the number of unique words in the whole dataset (train + test) and print it out. \n",
    "#### v. Calculate the average review length and the standard deviation of review lengths. Report the results. vi. Plot the histogram of review lengths"
   ]
  },
  {
   "cell_type": "code",
   "execution_count": 1,
   "id": "b28fc8c7-2f67-44da-a686-3f5adeda6a1b",
   "metadata": {
    "tags": []
   },
   "outputs": [
    {
     "name": "stdout",
     "output_type": "stream",
     "text": [
      "Number of unique words in the dataset: 47037\n",
      "Average review length: 644.36 words\n",
      "Standard deviation of review lengths: 284.98 words\n"
     ]
    }
   ],
   "source": [
    "import os\n",
    "import numpy as np\n",
    "import re\n",
    "\n",
    "\n",
    "def load_data(folder):\n",
    "    \"\"\" Load data from files and preprocess it. \"\"\"\n",
    "    train_texts, test_texts, train_labels, test_labels = [], [], [], []\n",
    "    files = os.listdir(folder)\n",
    "\n",
    "    \n",
    "    regex = re.compile(r'^cv\\d{3}_\\d+\\.txt$')  # Regex to match filenames like 'cv000_29590.txt'\n",
    "    files = [f for f in files if regex.match(f)]\n",
    "\n",
    "    # Sort files based on the numerical part of the filename\n",
    "    files.sort(key=lambda x: int(x.split('_')[0][2:]))\n",
    "\n",
    "    for file in files:\n",
    "        file_path = os.path.join(folder, file)\n",
    "        with open(file_path, 'r', encoding='utf-8') as f:\n",
    "            text = f.read().lower()\n",
    "            text = re.sub(r'[\\d]', '', text)  # Remove numbers\n",
    "            text = re.sub(r'[^\\w\\s]', '', text)  # Remove punctuation\n",
    "\n",
    "            # Extract CV number from filename considering the new pattern\n",
    "            cv_number = int(file.split(\"_\")[0][2:])  # Extract number after 'cv' and before '_'\n",
    "            if 0 <= cv_number <= 699:\n",
    "                train_labels.append(1 if 'pos' in folder else -1)\n",
    "                train_texts.append(text)\n",
    "            elif 700 <= cv_number <= 999:\n",
    "                test_labels.append(1 if 'pos' in folder else -1)  # Assign a placeholder label for test data\n",
    "                test_texts.append(text)\n",
    "    return train_texts, test_texts, train_labels, test_labels\n",
    "\n",
    "train_pos_texts, test_pos_texts, train_pos_labels, test_pos_labels = load_data('../data/pos')\n",
    "train_neg_texts, test_neg_texts, train_neg_labels, test_neg_labels = load_data('../data/neg')\n",
    "\n",
    "# Combine and separate training and testing data\n",
    "train_texts = np.array(train_pos_texts + train_neg_texts)\n",
    "test_texts = np.array(test_pos_texts + test_neg_texts)\n",
    "train_labels = np.array(train_pos_labels + train_neg_labels)\n",
    "test_labels = np.array(test_pos_labels + test_neg_labels)\n",
    "\n",
    "# Combine all texts\n",
    "all_texts = np.concatenate([train_texts, test_texts])\n",
    "\n",
    "# find unique words\n",
    "unique_words = set()\n",
    "for text in all_texts:\n",
    "    words = text.split()\n",
    "    unique_words.update(words)\n",
    "\n",
    "# Print the number of unique words\n",
    "print(f\"Number of unique words in the dataset: {len(unique_words)}\")\n",
    "\n",
    "# Calculate the length of each review\n",
    "review_lengths = [len(text.split()) for text in all_texts]\n",
    "\n",
    "# Calculate the average length and standard deviation\n",
    "average_length = np.mean(review_lengths)\n",
    "std_dev_length = np.std(review_lengths)\n",
    "\n",
    "# Report the results\n",
    "print(f\"Average review length: {average_length:.2f} words\")\n",
    "print(f\"Standard deviation of review lengths: {std_dev_length:.2f} words\")"
   ]
  },
  {
   "cell_type": "markdown",
   "id": "5d11d77c-b10e-475e-8306-f56404dc7ef1",
   "metadata": {},
   "source": [
    "#### vi.Plot the histogram of review lengths."
   ]
  },
  {
   "cell_type": "code",
   "execution_count": 2,
   "id": "65fc3a84-477a-412c-9281-3d196cd5ca5c",
   "metadata": {
    "tags": []
   },
   "outputs": [
    {
     "data": {
      "image/png": "[encoded data removed]",
      "text/plain": [
       "<Figure size 1000x600 with 1 Axes>"
      ]
     },
     "metadata": {},
     "output_type": "display_data"
    }
   ],
   "source": [
    "import matplotlib.pyplot as plt\n",
    "\n",
    "\n",
    "# Plotting the histogram of review lengths\n",
    "plt.figure(figsize=(10, 6))\n",
    "plt.hist(review_lengths, bins=30, color='blue', edgecolor='black')\n",
    "plt.title('Histogram of Review Lengths')\n",
    "plt.xlabel('Review Length (number of words)')\n",
    "plt.ylabel('Frequency')\n",
    "plt.grid(True)\n",
    "plt.show()\n"
   ]
  },
  {
   "cell_type": "markdown",
   "id": "c4d55364-6548-49b8-9ec0-87143cff3659",
   "metadata": {},
   "source": [
    "#### vii. To represent each text (= data point), there are many ways. In NLP/Deep Learning terminology, this task is called tokenization. It is common to represent text using popularity/ rank of words in text. The most common word in the text will be represented as 1, the second most common word will be represented as 2, etc. Tokenize each text document using this method."
   ]
  },
  {
   "cell_type": "markdown",
   "id": "61bd5ea2-0a08-427a-a282-171bd754c899",
   "metadata": {},
   "source": [
    "I tried to code it without using the Kera first\n",
    "#### Method 1:"
   ]
  },
  {
   "cell_type": "code",
   "execution_count": 3,
   "id": "210eb5e6-2c8b-4ac1-8646-b8ee50fd7a00",
   "metadata": {
    "tags": []
   },
   "outputs": [
    {
     "name": "stdout",
     "output_type": "stream",
     "text": [
      "Original Text: films adapted from comic books have had plenty of success  whether theyre about superheroes  batman  superman  spawn   or geared toward kids  casper  or the arthouse crowd  ghost world   but theres never really been a comic book like from hell before  \n",
      "for starters  it was created by alan moore  and eddie campbell   who brought the medium to a whole new level in the mid s with a part series called the watchmen  \n",
      "to say moore and campbell thoroughly researched the subject of jack the ripper would be like saying michael jackson is starting to look a little odd  \n",
      "the book  or  graphic novel   if you will  is over  pages long and includes nearly  more that consist of nothing but footnotes  \n",
      "in other words  dont dismiss this film because of its source  \n",
      "if you can get past the whole comic book thing  you might find another stumbling block in from hells directors  albert and allen hughes  \n",
      "getting the hughes brothers to direct this seems almost as ludicrous as casting carrot top in  well  anything  but riddle me this  who better to direct a film thats set in the ghetto and features really violent street crime than the mad geniuses behind menace ii society  \n",
      "the ghetto in question is  of course  whitechapel in  londons east end  \n",
      "its a filthy  sooty place where the whores  called  unfortunates   are starting to get a little nervous about this mysterious psychopath who has been carving through their profession with surgical precision  \n",
      "when the first stiff turns up  copper peter godley  robbie coltrane  the world is not enough  calls in inspector frederick abberline  johnny depp  blow  to crack the case  \n",
      "abberline  a widower  has prophetic dreams he unsuccessfully tries to quell with copious amounts of absinthe and opium  \n",
      "upon arriving in whitechapel  he befriends an unfortunate named mary kelly  heather graham  say it isnt so  and proceeds to investigate the horribly gruesome crimes that even the police surgeon cant stomach  \n",
      "i dont think anyone needs to be briefed on jack the ripper  so i wont go into the particulars here  other than to say moore and campbell have a unique and interesting theory about both the identity of the killer and the reasons he chooses to slay  \n",
      "in the comic  they dont bother cloaking the identity of the ripper  but screenwriters terry hayes  vertical limit  and rafael yglesias  les mis  rables  do a good job of keeping him hidden from viewers until the very end  \n",
      "its funny to watch the locals blindly point the finger of blame at jews and indians because  after all  an englishman could never be capable of committing such ghastly acts  \n",
      "and from hells ending had me whistling the stonecutters song from the simpsons for days   who holds back the electric carwho made steve guttenberg a star     \n",
      "dont worry  itll all make sense when you see it  \n",
      "now onto from hells appearance  its certainly dark and bleak enough  and its surprising to see how much more it looks like a tim burton film than planet of the apes did  at times  it seems like sleepy hollow    \n",
      "the print i saw wasnt completely finished  both color and music had not been finalized  so no comments about marilyn manson   but cinematographer peter deming  dont say a word  ably captures the dreariness of victorianera london and helped make the flashy killing scenes remind me of the crazy flashbacks in twin peaks  even though the violence in the film pales in comparison to that in the blackandwhite comic  \n",
      "oscar winner martin childs  shakespeare in love  production design turns the original prague surroundings into one creepy place  \n",
      "even the acting in from hell is solid  with the dreamy depp turning in a typically strong performance and deftly handling a british accent  \n",
      "ians holm  joe goulds secret  and richardson   dalmatians  log in great supporting roles  but the big surprise here is graham  \n",
      "i cringed the first time she opened her mouth  imagining her attempt at an irish accent  but it actually wasnt half bad  \n",
      "the film  however  is all good  \n",
      "    r for strong violencegore  sexuality  language and drug content \n",
      "\n",
      "Tokenized Text: [67, 2742, 29, 355, 1632, 32, 90, 1046, 4, 627, 628, 321, 40, 7654, 703, 4780, 1755, 47, 7253, 1327, 396, 4946, 47, 1, 10835, 1777, 1880, 148, 16, 140, 108, 89, 68, 2, 355, 405, 39, 29, 502, 142, 12, 9969, 9, 31, 853, 21, 1351, 1801, 3, 944, 1508, 28, 877, 1, 3949, 5, 2, 283, 113, 540, 7, 1, 7254, 127, 11, 2, 202, 262, 381, 1, 27391, 5, 179, 1801, 3, 1508, 1881, 27392, 1, 845, 4, 495, 1, 13233, 69, 22, 39, 820, 324, 1231, 6, 2138, 5, 175, 2, 94, 1232, 1, 405, 47, 1546, 521, 51, 35, 65, 6, 111, 4947, 196, 3, 1233, 440, 42, 8, 9258, 4, 181, 16, 20956, 7, 73, 637, 119, 6910, 14, 15, 84, 4, 23, 2109, 51, 35, 64, 74, 403, 1, 283, 355, 405, 180, 35, 228, 188, 124, 6592, 2807, 7, 29, 11936, 878, 2857, 3, 1029, 2590, 333, 1, 2590, 620, 5, 1964, 14, 136, 178, 10, 2969, 10, 1089, 8116, 466, 7, 83, 232, 16, 27393, 103, 14, 28, 153, 5, 1964, 2, 15, 185, 259, 7, 1, 4626, 3, 629, 89, 995, 1047, 689, 58, 1, 1608, 7655, 384, 1261, 1019, 911, 1, 4626, 7, 486, 6, 4, 218, 20957, 7, 14987, 3313, 133, 23, 2, 13234, 27394, 235, 96, 1, 20958, 381, 20959, 20, 2138, 5, 74, 2, 94, 3240, 40, 14, 1147, 6911, 28, 33, 68, 13235, 121, 45, 3556, 11, 20960, 8117, 43, 1, 80, 4948, 336, 46, 13236, 524, 27395, 3842, 13237, 1, 148, 6, 25, 154, 1328, 7, 3087, 10836, 20961, 1778, 2858, 2459, 5, 3241, 1, 318, 20961, 2, 10837, 33, 13238, 1060, 17, 9259, 364, 5, 17387, 11, 11937, 3557, 4, 20962, 3, 20963, 436, 5988, 7, 20957, 17, 4068, 24, 2139, 382, 1008, 1547, 3738, 2808, 179, 9, 162, 38, 3, 3950, 5, 2498, 1, 2859, 4627, 3739, 8, 56, 1, 555, 8118, 220, 4781, 18, 119, 172, 325, 612, 5, 22, 27396, 19, 495, 1, 13233, 38, 18, 501, 129, 55, 1, 11938, 125, 73, 58, 5, 179, 1801, 3, 1508, 32, 2, 1172, 3, 222, 2591, 40, 157, 1, 1675, 4, 1, 504, 3, 1, 1030, 17, 3242, 5, 20964, 7, 1, 355, 36, 119, 2544, 27397, 1, 1675, 4, 1, 13233, 16, 1911, 2337, 10838, 11939, 8621, 3, 11940, 17388, 4195, 14988, 20965, 76, 2, 61, 254, 4, 1525, 54, 1709, 29, 732, 308, 1, 78, 133, 23, 176, 5, 237, 1, 6285, 13239, 212, 1, 4782, 4, 1526, 30, 4628, 3, 7255, 84, 81, 37, 24, 14989, 104, 108, 22, 1940, 4, 7256, 118, 9260, 1802, 3, 29, 11936, 314, 90, 103, 27398, 1, 27399, 1048, 29, 1, 7656, 12, 394, 28, 1581, 135, 1, 6593, 27400, 137, 903, 14990, 2, 209, 119, 3391, 4338, 37, 86, 253, 43, 35, 82, 9, 144, 1140, 29, 11936, 1090, 23, 376, 432, 3, 2499, 154, 3, 23, 1329, 5, 82, 93, 70, 42, 9, 299, 39, 2, 885, 2195, 15, 58, 565, 4, 1, 1527, 192, 30, 245, 9, 136, 39, 3025, 1882, 1, 4196, 18, 526, 457, 300, 3392, 157, 1548, 3, 285, 90, 25, 68, 20966, 38, 59, 2368, 40, 6912, 9261, 16, 1986, 524, 27401, 119, 179, 2, 638, 8119, 3161, 1, 20967, 4, 27402, 2110, 3, 2338, 86, 1, 3088, 982, 117, 3740, 103, 4, 1, 1582, 1912, 7, 2970, 5989, 56, 151, 1, 448, 7, 1, 15, 13240, 7, 1822, 5, 8, 7, 1, 7657, 355, 654, 1883, 837, 4486, 1884, 7, 126, 460, 1528, 336, 1, 203, 27403, 5990, 55, 26, 1441, 235, 56, 1, 206, 7, 29, 502, 6, 815, 11, 1, 9262, 2858, 1676, 7, 2, 4197, 507, 158, 3, 10839, 4629, 2, 959, 1396, 27404, 5991, 467, 17389, 789, 3, 4339, 5329, 14991, 7, 123, 490, 480, 16, 1, 145, 655, 125, 6, 2808, 18, 17390, 1, 80, 63, 53, 3026, 34, 1478, 13241, 34, 505, 30, 24, 2809, 1396, 16, 9, 173, 457, 342, 106, 1, 15, 143, 6, 37, 61, 886, 12, 507, 17391, 3393, 1107, 3, 923, 1710]\n"
     ]
    }
   ],
   "source": [
    "from collections import Counter\n",
    "\n",
    "\n",
    "# Step 1: Create a frequency dictionary\n",
    "word_counts = Counter(word for text in all_texts for word in text.split())\n",
    "# Step 2: Sort words by frequency (most common first)\n",
    "sorted_words = sorted(word_counts, key=word_counts.get, reverse=True)\n",
    "\n",
    "# Step 3: Create a dictionary to map words to their ranks\n",
    "word_ranks = {word: rank for rank, word in enumerate(sorted_words, start=1)}\n",
    "\n",
    "# Step 4: Tokenize each text document using the word ranks\n",
    "tokenized_texts = [[word_ranks[word] for word in text.split()] for text in train_texts]\n",
    "\n",
    "# Example of how the tokenized data looks for the first document\n",
    "print(f\"Original Text: {train_texts[0]}\")\n",
    "print(f\"Tokenized Text: {tokenized_texts[0]}\")\n"
   ]
  },
  {
   "cell_type": "markdown",
   "id": "8f09550e-5cd1-4d26-b4d2-339b83e08fa5",
   "metadata": {},
   "source": [
    "#### Method 2:"
   ]
  },
  {
   "cell_type": "code",
   "execution_count": 4,
   "id": "be0528dd-e298-48dd-aba0-20133d4df048",
   "metadata": {
    "tags": []
   },
   "outputs": [
    {
     "name": "stdout",
     "output_type": "stream",
     "text": [
      "[67, 2745, 29, 355, 1634, 32, 90, 1047, 4, 627, 628, 321, 40, 7660, 704, 4783, 1755, 47, 7257, 1328, 396, 4949, 47, 1, 10837, 1777, 1778, 148, 16, 140, 108, 89, 68, 2, 355, 405, 39, 29, 503, 142, 12, 9974, 9, 31, 853, 21, 1352, 1802, 3, 944, 1512, 28, 879, 1, 3951, 5, 2, 282, 113, 540, 7, 1, 7258, 126, 11, 2, 202, 262, 381, 1, 27315, 5, 180, 1802, 3, 1512, 1882, 27316, 1, 845, 4, 495, 1, 13221, 69, 22, 39, 820, 325, 1231, 6, 2142, 5, 175, 2, 94, 1232, 1, 405, 47, 1549, 523, 51, 35, 65, 6, 111, 4950, 196, 3, 1233, 440, 42, 8, 9266, 4, 181, 16, 20915, 7, 73, 637, 119, 6914, 14, 15, 84, 4, 23, 2110, 51, 35, 64, 74, 403, 1, 282, 355, 405, 179, 35, 228, 188, 124, 6595, 2808, 7, 29, 11930, 880, 2858, 3, 1029, 2592, 333, 1, 2592, 620, 5, 1967, 14, 136, 178, 10, 2970, 10, 1089, 8121, 466, 7, 83, 232, 16, 27317, 103, 14, 28, 153, 5, 1967, 2, 15, 185, 260, 7, 1, 4628, 3, 629, 89, 996, 1036, 690, 58, 1, 1609, 7661, 384, 1261, 1009, 911, 1, 4628, 7, 486, 6, 4, 218, 20916, 7, 14973, 3316, 133, 23, 2, 13222, 27318, 235, 96, 1, 20917, 381, 20918, 20, 2142, 5, 74, 2, 94, 3240, 40, 14, 1147, 6915, 28, 33, 68, 13223, 121, 45, 3557, 11, 20919, 8122, 43, 1, 80, 4951, 336, 46, 13224, 524, 27319, 3844, 13225, 1, 148, 6, 25, 154, 1329, 7, 3089, 10838, 20920, 1779, 2859, 2462, 5, 3241, 1, 318, 20920, 2, 10839, 33, 13226, 1061, 17, 9267, 364, 5, 17365, 11, 11931, 3558, 4, 20921, 3, 20922, 436, 5997, 7, 20916, 17, 4070, 24, 2143, 382, 1010, 1550, 3738, 2809, 180, 9, 162, 38, 3, 3952, 5, 2500, 1, 2860, 4629, 3739, 8, 56, 1, 555, 8123, 219, 4784, 18, 119, 172, 326, 612, 5, 22, 27320, 19, 495, 1, 13221, 38, 18, 501, 129, 55, 1, 11932, 125, 73, 58, 5, 180, 1802, 3, 1512, 32, 2, 1177, 3, 222, 2593, 40, 157, 1, 1675, 4, 1, 505, 3, 1, 1030, 17, 3242, 5, 20923, 7, 1, 355, 36, 119, 2549, 27321, 1, 1675, 4, 1, 13221, 16, 1913, 2340, 10840, 11933, 8626, 3, 11934, 17366, 4197, 14974, 20924, 76, 2, 61, 254, 4, 1529, 54, 1711, 29, 732, 308, 1, 78, 133, 23, 176, 5, 237, 1, 6290, 13227, 212, 1, 4785, 4, 1530, 30, 4630, 3, 7259, 84, 81, 37, 24, 14975, 104, 108, 22, 1941, 4, 7260, 118, 9268, 1803, 3, 29, 11930, 314, 90, 103, 27322, 1, 27323, 1048, 29, 1, 7662, 12, 392, 28, 1582, 135, 1, 6596, 27324, 137, 903, 14976, 2, 209, 119, 3393, 4340, 37, 86, 253, 43, 35, 82, 9, 144, 1140, 29, 11930, 1090, 23, 377, 432, 3, 2501, 154, 3, 23, 1330, 5, 82, 93, 70, 42, 9, 299, 39, 2, 886, 2198, 15, 58, 565, 4, 1, 1531, 192, 30, 245, 9, 136, 39, 3026, 1883, 1, 4198, 18, 526, 457, 300, 3394, 157, 1551, 3, 285, 90, 25, 68, 20925, 38, 59, 2371, 40, 6916, 9269, 16, 1988, 524, 27325, 119, 180, 2, 638, 8124, 3161, 1, 20926, 4, 27326, 2111, 3, 2341, 86, 1, 3090, 982, 117, 3740, 103, 4, 1, 1583, 1914, 7, 2971, 5998, 56, 151, 1, 448, 7, 1, 15, 13228, 7, 1823, 5, 8, 7, 1, 7663, 355, 655, 1884, 837, 4488, 1885, 7, 127, 460, 1532, 336, 1, 203, 27327, 5999, 55, 26, 1443, 235, 56, 1, 206, 7, 29, 503, 6, 816, 11, 1, 9270, 2859, 1676, 7, 2, 4199, 509, 158, 3, 10841, 4631, 2, 960, 1397, 27328, 6000, 467, 17367, 789, 3, 4341, 5336, 14977, 7, 123, 490, 481, 16, 1, 145, 656, 125, 6, 2809, 18, 17368, 1, 80, 63, 53, 3027, 34, 1481, 13229, 34, 506, 30, 24, 2810, 1397, 16, 9, 174, 457, 342, 106, 1, 15, 143, 6, 37, 61, 887, 12, 509, 17369, 3395, 1108, 3, 923, 1712]\n"
     ]
    }
   ],
   "source": [
    "from tensorflow.keras.preprocessing.text import Tokenizer\n",
    "from tensorflow.keras.preprocessing.sequence import pad_sequences\n",
    "\n",
    "# Create the tokenizer\n",
    "tokenizer = Tokenizer()  # By default, it sorts words by frequency\n",
    "\n",
    "# Fit the tokenizer on the texts\n",
    "tokenizer.fit_on_texts(all_texts)\n",
    "\n",
    "# Convert texts to sequences\n",
    "sequences = tokenizer.texts_to_sequences(all_texts)\n",
    "\n",
    "print(sequences[0])\n"
   ]
  },
  {
   "cell_type": "markdown",
   "id": "ac8789aa-fd15-4e6d-b270-fa8dcfecc7fc",
   "metadata": {},
   "source": [
    "#### viii. Select a review length L that 70% of the reviews have a length below it. If you feel more adventurous, set the threshold to 90%."
   ]
  },
  {
   "cell_type": "code",
   "execution_count": 5,
   "id": "a74e3184-1cd3-4840-b097-79c8efa2ce01",
   "metadata": {
    "tags": []
   },
   "outputs": [
    {
     "name": "stdout",
     "output_type": "stream",
     "text": [
      "The 70th percentile of review lengths: 737 words\n",
      "The 90th percentile of review lengths: 993 words\n"
     ]
    }
   ],
   "source": [
    "import numpy as np\n",
    "\n",
    "# Assuming review_lengths is already defined from previous steps\n",
    "review_lengths = np.array([len(text.split()) for text in all_texts])\n",
    "\n",
    "# Calculate the 70th percentile\n",
    "L_70 = np.percentile(review_lengths, 70)\n",
    "print(f\"The 70th percentile of review lengths: {L_70:.0f} words\")\n",
    "\n",
    "# Calculate the 90th percentile if feeling adventurous\n",
    "L_90 = np.percentile(review_lengths, 90)\n",
    "print(f\"The 90th percentile of review lengths: {L_90:.0f} words\")\n"
   ]
  },
  {
   "cell_type": "markdown",
   "id": "f273be71-a3e7-49c0-85fa-8628aa3930ac",
   "metadata": {
    "tags": []
   },
   "source": [
    "#### ix.Truncate reviews longer than L words and zero-pad reviews shorter than L so that all texts (= data points) are of length L"
   ]
  },
  {
   "cell_type": "code",
   "execution_count": 6,
   "id": "8af31572-7fbc-48bc-b3bf-93f96baee36e",
   "metadata": {
    "tags": []
   },
   "outputs": [
    {
     "name": "stdout",
     "output_type": "stream",
     "text": [
      "films adapted from comic books have had plenty of success whether theyre about superheroes batman superman spawn or geared toward kids casper or the arthouse crowd ghost world but theres never really been a comic book like from hell before for starters it was created by alan moore and eddie campbell who brought the medium to a whole new level in the mid s with a part series called the watchmen to say moore and campbell thoroughly researched the subject of jack the ripper would be like saying michael jackson is starting to look a little odd the book or graphic novel if you will is over pages long and includes nearly more that consist of nothing but footnotes in other words dont dismiss this film because of its source if you can get past the whole comic book thing you might find another stumbling block in from hells directors albert and allen hughes getting the hughes brothers to direct this seems almost as ludicrous as casting carrot top in well anything but riddle me this who better to direct a film thats set in the ghetto and features really violent street crime than the mad geniuses behind menace ii society the ghetto in question is of course whitechapel in londons east end its a filthy sooty place where the whores called unfortunates are starting to get a little nervous about this mysterious psychopath who has been carving through their profession with surgical precision when the first stiff turns up copper peter godley robbie coltrane the world is not enough calls in inspector frederick abberline johnny depp blow to crack the case abberline a widower has prophetic dreams he unsuccessfully tries to quell with copious amounts of absinthe and opium upon arriving in whitechapel he befriends an unfortunate named mary kelly heather graham say it isnt so and proceeds to investigate the horribly gruesome crimes that even the police surgeon cant stomach i dont think anyone needs to be briefed on jack the ripper so i wont go into the particulars here other than to say moore and campbell have a unique and interesting theory about both the identity of the killer and the reasons he chooses to slay in the comic they dont bother cloaking the identity of the ripper but screenwriters terry hayes vertical limit and rafael yglesias les mis rables do a good job of keeping him hidden from viewers until the very end its funny to watch the locals blindly point the finger of blame at jews and indians because after all an englishman could never be capable of committing such ghastly acts and from hells ending had me whistling the stonecutters song from the simpsons for days who holds back the electric carwho made steve guttenberg a star dont worry itll all make sense when you see it now onto from hells appearance its certainly dark and bleak enough and its surprising to see how much more it looks like a tim burton film than planet of the apes did at times it seems like sleepy hollow the print i saw wasnt completely finished both color and music had not been finalized so no comments about marilyn manson but cinematographer peter deming dont say a word ably captures the dreariness of victorianera london and helped make the flashy killing scenes remind me of the crazy flashbacks in twin peaks even though the violence in the film pales in comparison to that in the blackandwhite comic oscar winner martin childs shakespeare in love production design turns the original prague surroundings into one creepy place even the acting in from hell is solid with the dreamy depp turning in a typically strong performance and deftly handling a british accent ians holm joe goulds secret and richardson dalmatians log in great supporting roles but the big surprise here is graham i cringed the first time she opened her mouth imagining her attempt at an irish accent but it actually wasnt half bad the film however is all good r for strong violencegore sexuality language and drug content 0 0 0 0 0 0 0 0 0 0 0 0 0 0 0 0 0 0 0 0 0 0 0 0 0 0 0 0 0 0 0 0 0 0 0 0 0 0 0 0 0 0 0 0 0 0 0 0 0 0 0 0 0 0 0 0 0 0\n"
     ]
    }
   ],
   "source": [
    "import numpy as np\n",
    "\n",
    "\n",
    "# Function to truncate or pad reviews\n",
    "def truncate_or_pad(texts, max_length):\n",
    "    processed_texts = []\n",
    "    for text in texts:\n",
    "        words = text.split()\n",
    "        if len(words) > max_length:\n",
    "            # Truncate the review\n",
    "            processed_text = words[:max_length]\n",
    "        else:\n",
    "            # Pad the review with '0' (you can choose any other padding token)\n",
    "            processed_text = words + ['0'] * (max_length - len(words))\n",
    "        \n",
    "        processed_texts.append(processed_text)\n",
    "    \n",
    "    return processed_texts\n",
    "\n",
    "# Apply the function to train_texts\n",
    "processed_texts = truncate_or_pad(train_texts, 737)\n",
    "\n",
    "# Convert processed texts back to strings if necessary\n",
    "processed_texts = [' '.join(text) for text in processed_texts]\n",
    "\n",
    "# Optionally convert to a numpy array\n",
    "processed_texts_array = np.array(processed_texts)\n",
    "\n",
    "# Show the first few processed texts\n",
    "print(processed_texts_array[0])\n"
   ]
  },
  {
   "cell_type": "markdown",
   "id": "e2d89bc8-252d-418e-b98b-6c6ba006c131",
   "metadata": {},
   "source": [
    "### c) Word Embeddings\n",
    "#### i. One can use tokenized text as inputs to a deep neural network. However, a re- cent breakthrough in NLP suggests that more sophisticated representations of text yield better results. These sophisticated representations are called word embeddings . “Word embedding is a term used for representation of words for text analysis, typically in the form of a real-valued vector that encodes the meaning of the word such that the words that are closer in the vector space are expected to be similar in meaning.” 4 . Most deep learning modules (including Keras) provide a convenient way to convert positive integer rep- resentations of words into a word embedding by an “Embedding layer.” The layer accepts arguments that define the mapping of words into embeddings, including the maximum number of expected words also called the vocabulary size (e.g. the largest integer value). The layer also allows you to specify the dimension for each word vector, called the “output dimension.” We would like to use a word embedding layer for this project. Assume that we are inter- ested in the top 5,000 words. This means that in each integer sequence that represents each document, we set to zero those integers that represent words that are not among the top 5,000 words in the document.(This is done by setting an argument in the embedding layer provided by Keras. Example: model.add(Embedding(top_words, 32, input_length=max_words)), where top_words=5,000 and max_words=L) 5 If you feel more adventurous, use all the words that appear in this corpus. Choose the length of the embedding vector for each word to be 32. Hence, each document is represented as a 32 × L matrix. ii. Flatten the matrix of each document to a vector.\n"
   ]
  },
  {
   "cell_type": "markdown",
   "id": "eecfce1b-fd04-4b27-b9b0-597f0cd03481",
   "metadata": {},
   "source": [
    "When you use a 32-dimensional vector to represent each word in your corpus, as is typical with word embeddings, each dimension of the vector encodes some aspect of the word's semantic and syntactic properties. However, the meanings of individual dimensions in such vectors are not typically interpretable in isolation. The embeddings are learned in such a way that the vector as a whole represents the word's usage in language, based on how it appears with other words across a large text corpus."
   ]
  },
  {
   "cell_type": "code",
   "execution_count": 7,
   "id": "ac3e6ae2-127f-4db3-89c6-fe78fc13158c",
   "metadata": {
    "tags": []
   },
   "outputs": [
    {
     "name": "stdout",
     "output_type": "stream",
     "text": [
      "Updated labels and counts: {0: 700, 1: 700}\n"
     ]
    }
   ],
   "source": [
    "import numpy as np\n",
    "\n",
    "\n",
    "# Convert -1 to 0\n",
    "train_labels[train_labels == -1] = 0\n",
    "\n",
    "# check the updated unique values and their counts\n",
    "unique, counts = np.unique(train_labels, return_counts=True)\n",
    "print(\"Updated labels and counts:\", dict(zip(unique, counts)))\n"
   ]
  },
  {
   "cell_type": "code",
   "execution_count": 8,
   "id": "cf1d6f5b-0ebe-4163-962a-ce9e545d7dec",
   "metadata": {
    "tags": []
   },
   "outputs": [
    {
     "data": {
      "text/plain": [
       "(1400,)"
      ]
     },
     "execution_count": 8,
     "metadata": {},
     "output_type": "execute_result"
    }
   ],
   "source": [
    "train_labels.shape"
   ]
  },
  {
   "cell_type": "code",
   "execution_count": 9,
   "id": "4ca77c21-61c5-4b97-9002-b7ad595d0282",
   "metadata": {
    "tags": []
   },
   "outputs": [
    {
     "data": {
      "text/plain": [
       "(600,)"
      ]
     },
     "execution_count": 9,
     "metadata": {},
     "output_type": "execute_result"
    }
   ],
   "source": [
    "test_labels.shape"
   ]
  },
  {
   "cell_type": "code",
   "execution_count": 10,
   "id": "62bcf2be-465b-4ab1-b4f6-e9e881856032",
   "metadata": {
    "tags": []
   },
   "outputs": [],
   "source": [
    "from tensorflow.keras.preprocessing.text import Tokenizer\n",
    "from tensorflow.keras.preprocessing.sequence import pad_sequences\n",
    "\n",
    "vocab_size = 5000  # Only the top 5000 words will be considered\n",
    "max_length = 737   # This will be the length each input sequence is padded to\n",
    "\n",
    "tokenizer = Tokenizer(num_words=vocab_size)  # Initializes tokenizer\n",
    "tokenizer.fit_on_texts(processed_texts) \n",
    "\n",
    "sequences = tokenizer.texts_to_sequences(processed_texts)  # Converts texts to sequences of integers\n",
    "padded_sequences = pad_sequences(sequences, maxlen=max_length, padding='post', truncating='post')  # Ensures uniform input length\n"
   ]
  },
  {
   "cell_type": "code",
   "execution_count": 11,
   "id": "050a72f7-9e87-4623-b769-2ca5044a9e53",
   "metadata": {
    "tags": []
   },
   "outputs": [
    {
     "data": {
      "text/plain": [
       "array([[  69, 3384,   30, ...,    0,    0,    0],\n",
       "       [ 151,  136,    4, ...,    0,    0,    0],\n",
       "       [ 707,  284, 3829, ...,    0,    0,    0],\n",
       "       ...,\n",
       "       [ 682,  589, 4236, ...,    0,    0,    0],\n",
       "       [  83, 1719,    3, ...,    0,    0,    0],\n",
       "       [1159,   19,   51, ...,    0,    0,    0]], dtype=int32)"
      ]
     },
     "execution_count": 11,
     "metadata": {},
     "output_type": "execute_result"
    }
   ],
   "source": [
    "padded_sequences"
   ]
  },
  {
   "cell_type": "markdown",
   "id": "61cc2c41-156e-4929-8f37-37c1ec101848",
   "metadata": {},
   "source": [
    "### (d) Multi-Layer Perceptron\n",
    "#### i.Train a MLP with three (dense) hidden layers each of which has 50 ReLUs and one output layer with a single sigmoid neuron. Use a dropout rate of 20% for the first layer and 50% for the other layers. Use ADAM optimizer and binary cross entropy loss (which is equivalent to having a softmax in the output). To avoid overfitting, just set the number of epochs as 2. Use a batch size of 10."
   ]
  },
  {
   "cell_type": "code",
   "execution_count": 22,
   "id": "78f8c166-5f87-4f5f-a0c5-575ef44621f3",
   "metadata": {
    "tags": []
   },
   "outputs": [
    {
     "name": "stdout",
     "output_type": "stream",
     "text": [
      "Epoch 1/2\n",
      "\u001b[1m140/140\u001b[0m \u001b[32m━━━━━━━━━━━━━━━━━━━━\u001b[0m\u001b[37m\u001b[0m \u001b[1m1s\u001b[0m 4ms/step - accuracy: 0.4832 - loss: 0.7049\n",
      "Epoch 2/2\n",
      "\u001b[1m140/140\u001b[0m \u001b[32m━━━━━━━━━━━━━━━━━━━━\u001b[0m\u001b[37m\u001b[0m \u001b[1m1s\u001b[0m 5ms/step - accuracy: 0.5486 - loss: 0.6803\n"
     ]
    }
   ],
   "source": [
    "import tensorflow as tf\n",
    "from tensorflow.keras.models import Sequential\n",
    "from tensorflow.keras.layers import Dense, Dropout\n",
    "from tensorflow.keras.models import Sequential\n",
    "from tensorflow.keras.layers import Embedding, Flatten, Dense, Dropout\n",
    "\n",
    "\n",
    "# Assuming the input parameters are set\n",
    "vocab_size = 5000  # Top 5000 words\n",
    "embedding_dim = 32  # Each word will be represented by a 32-dimensional vector\n",
    "max_length = 737    # Maximum length of the sequences\n",
    "\n",
    "# Initialize the model\n",
    "model = Sequential([\n",
    "    # Embedding layer\n",
    "    Embedding(input_dim=vocab_size+1, output_dim=embedding_dim, input_length=max_length, trainable=True),\n",
    "    \n",
    "    # Flatten the embeddings output to feed into a dense layer\n",
    "    Flatten(),\n",
    "    \n",
    "    # First hidden layer with dropout at 20%\n",
    "    Dense(50, activation='relu'),\n",
    "    Dropout(0.2),\n",
    "    \n",
    "    # Second hidden layer with dropout at 50%\n",
    "    Dense(50, activation='relu'),\n",
    "    Dropout(0.5),\n",
    "    \n",
    "    # Third hidden layer with dropout at 50%\n",
    "    Dense(50, activation='relu'),\n",
    "    Dropout(0.5),\n",
    "    \n",
    "    # Output layer with a single sigmoid unit for binary classification\n",
    "    Dense(1, activation='sigmoid')\n",
    "])\n",
    "\n",
    "# Compile the model\n",
    "model.compile(optimizer='adam', loss='binary_crossentropy', metrics=['accuracy'])\n",
    "# Fit the model on the training data\n",
    "history = model.fit(padded_sequences, train_labels, epochs=2, batch_size=10)\n",
    "\n"
   ]
  },
  {
   "cell_type": "code",
   "execution_count": 23,
   "id": "fd4ecf13-50d9-4e48-976b-e4dab6928857",
   "metadata": {
    "tags": []
   },
   "outputs": [
    {
     "data": {
      "text/plain": [
       "(1400, 737)"
      ]
     },
     "execution_count": 23,
     "metadata": {},
     "output_type": "execute_result"
    }
   ],
   "source": [
    "padded_sequences.shape"
   ]
  },
  {
   "cell_type": "code",
   "execution_count": 24,
   "id": "81fdfab2-ddfe-48bc-a089-f9d70d269f9a",
   "metadata": {
    "tags": []
   },
   "outputs": [
    {
     "name": "stdout",
     "output_type": "stream",
     "text": [
      "\u001b[1m44/44\u001b[0m \u001b[32m━━━━━━━━━━━━━━━━━━━━\u001b[0m\u001b[37m\u001b[0m \u001b[1m0s\u001b[0m 1ms/step - accuracy: 0.8183 - loss: 0.5829 \n",
      "\u001b[1m19/19\u001b[0m \u001b[32m━━━━━━━━━━━━━━━━━━━━\u001b[0m\u001b[37m\u001b[0m \u001b[1m0s\u001b[0m 8ms/step - accuracy: 0.8001 - loss: 0.6119\n"
     ]
    }
   ],
   "source": [
    "# process the text data\n",
    "\n",
    "processed_texts_test = truncate_or_pad(test_texts, 737)\n",
    "# Convert processed texts back to strings if necessary\n",
    "processed_texts_test = [' '.join(text) for text in processed_texts_test]\n",
    "\n",
    "vocab_size = 5000  # Only the top 5000 words will be considered\n",
    "max_length = 737   \n",
    "\n",
    "tokenizer_t = Tokenizer(num_words=vocab_size)  # Initializes tokenizer\n",
    "tokenizer_t.fit_on_texts(processed_texts_test)  \n",
    "\n",
    "sequences_t = tokenizer_t.texts_to_sequences(processed_texts_test) \n",
    "padded_sequences_test = pad_sequences(sequences_t, maxlen=max_length, padding='post', truncating='post')  # Ensures uniform input length\n",
    "\n",
    "\n",
    "\n",
    "# Convert -1 to 0\n",
    "test_labels[test_labels == -1] = 0\n",
    "\n",
    "\n",
    "train_loss, train_accuracy = model.evaluate(padded_sequences, train_labels)\n",
    "test_loss, test_accuracy = model.evaluate(padded_sequences_test, test_labels)\n",
    "\n"
   ]
  },
  {
   "cell_type": "markdown",
   "id": "55cb7d50-23af-49b9-bfd5-33f11e596ccb",
   "metadata": {},
   "source": [
    "### (e) One-Dimensional Convolutional Neural Network : Although CNNs are mainly used for image data, they can also be applied to text data, as text also has adjacency information. Keras supports one-dimensional convolutions and pooling by the Conv1D and MaxPooling1D classes respectively\n",
    "#### i. After the embedding layer, insert a Conv1D layer. This convolutional layer has 32 feature maps , and each of the 32 kernels has size 3, i.e. reads embedded word representations 3 vector elements of the word embedding at a time. The convolutional layer is followed by a 1D max pooling layer with a length and stride of 2 that halves the size of the feature maps from the convolutional layer. The rest of the network is the same as the neural network above"
   ]
  },
  {
   "cell_type": "code",
   "execution_count": 25,
   "id": "8234dc5f-5e37-4a2f-b702-3893564d4b9d",
   "metadata": {
    "tags": []
   },
   "outputs": [],
   "source": [
    "from tensorflow.keras.models import Sequential\n",
    "from tensorflow.keras.layers import Embedding, Conv1D, MaxPooling1D, Flatten, Dense, Dropout\n"
   ]
  },
  {
   "cell_type": "code",
   "execution_count": 30,
   "id": "24bfce12-c0d1-4bde-932c-a9deada22ae9",
   "metadata": {
    "tags": []
   },
   "outputs": [],
   "source": [
    "vocab_size = 5001  # Top 5000 words plus padding index\n",
    "embedding_dim = 32\n",
    "max_length = 737\n",
    "\n",
    "model = Sequential([\n",
    "    Embedding(input_dim=vocab_size, output_dim=embedding_dim, input_length=max_length),\n",
    "    Conv1D(filters=32, kernel_size=3, activation='relu', padding='same'),  # 32 feature maps and kernel size of 3\n",
    "    MaxPooling1D(pool_size=2), \n",
    "    Flatten(),\n",
    "    Dense(50, activation='relu'),\n",
    "    Dropout(0.2),\n",
    "    Dense(50, activation='relu'),\n",
    "    Dropout(0.5),\n",
    "    Dense(50, activation='relu'),\n",
    "    Dropout(0.5),\n",
    "    Dense(1, activation='sigmoid')  \n",
    "])\n",
    "\n",
    "# Compile the model\n",
    "model.compile(optimizer='adam', loss='binary_crossentropy', metrics=['accuracy'])\n"
   ]
  },
  {
   "cell_type": "code",
   "execution_count": 31,
   "id": "1286e966-fd5f-4e3e-9171-996c70c902ae",
   "metadata": {
    "tags": []
   },
   "outputs": [
    {
     "name": "stdout",
     "output_type": "stream",
     "text": [
      "Epoch 1/2\n",
      "\u001b[1m140/140\u001b[0m \u001b[32m━━━━━━━━━━━━━━━━━━━━\u001b[0m\u001b[37m\u001b[0m \u001b[1m2s\u001b[0m 5ms/step - accuracy: 0.4877 - loss: 0.7034\n",
      "Epoch 2/2\n",
      "\u001b[1m140/140\u001b[0m \u001b[32m━━━━━━━━━━━━━━━━━━━━\u001b[0m\u001b[37m\u001b[0m \u001b[1m1s\u001b[0m 5ms/step - accuracy: 0.5201 - loss: 0.6915\n"
     ]
    }
   ],
   "source": [
    "history = model.fit(\n",
    "    padded_sequences,  \n",
    "    train_labels, \n",
    "    epochs=2,\n",
    "    batch_size=10,\n",
    "\n",
    ")\n"
   ]
  },
  {
   "cell_type": "code",
   "execution_count": 32,
   "id": "853eedfa-668d-49fb-8063-4c63a879fc19",
   "metadata": {
    "tags": []
   },
   "outputs": [
    {
     "name": "stdout",
     "output_type": "stream",
     "text": [
      "\u001b[1m44/44\u001b[0m \u001b[32m━━━━━━━━━━━━━━━━━━━━\u001b[0m\u001b[37m\u001b[0m \u001b[1m0s\u001b[0m 2ms/step - accuracy: 0.5987 - loss: 0.6828\n",
      "\u001b[1m19/19\u001b[0m \u001b[32m━━━━━━━━━━━━━━━━━━━━\u001b[0m\u001b[37m\u001b[0m \u001b[1m0s\u001b[0m 2ms/step - accuracy: 0.5243 - loss: 0.6958\n"
     ]
    }
   ],
   "source": [
    "from tensorflow.keras.preprocessing.sequence import pad_sequences\n",
    "\n",
    "# process the text data\n",
    "processed_texts_test = truncate_or_pad(test_texts, 737)\n",
    "# Convert processed texts back to strings if necessary\n",
    "processed_texts_test = [' '.join(text) for text in processed_texts_test]\n",
    "\n",
    "vocab_size = 5000  # Only the top 5000 words will be considered\n",
    "max_length = 737   \n",
    "\n",
    "tokenizer_t = Tokenizer(num_words=vocab_size)  \n",
    "tokenizer_t.fit_on_texts(processed_texts_test)\n",
    "sequences_t = tokenizer_t.texts_to_sequences(processed_texts_test) \n",
    "padded_sequences_test = pad_sequences(sequences_t, maxlen=max_length, padding='post', truncating='post')  # Ensures uniform input length\n",
    "\n",
    "\n",
    "\n",
    "# Convert -1 to 0\n",
    "test_labels[test_labels == -1] = 0\n",
    "\n",
    "\n",
    "train_loss, train_accuracy = model.evaluate(padded_sequences, train_labels)\n",
    "test_loss, test_accuracy = model.evaluate(padded_sequences_test, test_labels)\n",
    "\n",
    "\n"
   ]
  },
  {
   "cell_type": "markdown",
   "id": "1bc64d61-4af3-4bf7-8f56-5388989dc3e2",
   "metadata": {},
   "source": [
    "### (f) Long Short-Term Memory Recurrent Neural Network\n",
    "#### i. Each word is represented to LSTM as a vector of 32 elements and the LSTM is followed by a dense layer of 256 ReLUs. Use a dropout rate of 0.2 for both LSTM and the dense layer. Train the model using 10-50 epochs and batch size of 10."
   ]
  },
  {
   "cell_type": "code",
   "execution_count": 19,
   "id": "acc907ed-301b-4355-b791-7481ca03df4c",
   "metadata": {
    "tags": []
   },
   "outputs": [
    {
     "name": "stdout",
     "output_type": "stream",
     "text": [
      "Epoch 1/10\n",
      "\u001b[1m140/140\u001b[0m \u001b[32m━━━━━━━━━━━━━━━━━━━━\u001b[0m\u001b[37m\u001b[0m \u001b[1m9s\u001b[0m 61ms/step - accuracy: 0.4803 - loss: 0.6941\n",
      "Epoch 2/10\n",
      "\u001b[1m140/140\u001b[0m \u001b[32m━━━━━━━━━━━━━━━━━━━━\u001b[0m\u001b[37m\u001b[0m \u001b[1m8s\u001b[0m 60ms/step - accuracy: 0.4904 - loss: 0.6942\n",
      "Epoch 3/10\n",
      "\u001b[1m140/140\u001b[0m \u001b[32m━━━━━━━━━━━━━━━━━━━━\u001b[0m\u001b[37m\u001b[0m \u001b[1m8s\u001b[0m 59ms/step - accuracy: 0.4925 - loss: 0.6938\n",
      "Epoch 4/10\n",
      "\u001b[1m140/140\u001b[0m \u001b[32m━━━━━━━━━━━━━━━━━━━━\u001b[0m\u001b[37m\u001b[0m \u001b[1m8s\u001b[0m 59ms/step - accuracy: 0.4923 - loss: 0.6937\n",
      "Epoch 5/10\n",
      "\u001b[1m140/140\u001b[0m \u001b[32m━━━━━━━━━━━━━━━━━━━━\u001b[0m\u001b[37m\u001b[0m \u001b[1m9s\u001b[0m 62ms/step - accuracy: 0.5090 - loss: 0.6933\n",
      "Epoch 6/10\n",
      "\u001b[1m140/140\u001b[0m \u001b[32m━━━━━━━━━━━━━━━━━━━━\u001b[0m\u001b[37m\u001b[0m \u001b[1m8s\u001b[0m 59ms/step - accuracy: 0.5047 - loss: 0.6934\n",
      "Epoch 7/10\n",
      "\u001b[1m140/140\u001b[0m \u001b[32m━━━━━━━━━━━━━━━━━━━━\u001b[0m\u001b[37m\u001b[0m \u001b[1m8s\u001b[0m 59ms/step - accuracy: 0.4856 - loss: 0.6940\n",
      "Epoch 8/10\n",
      "\u001b[1m140/140\u001b[0m \u001b[32m━━━━━━━━━━━━━━━━━━━━\u001b[0m\u001b[37m\u001b[0m \u001b[1m9s\u001b[0m 63ms/step - accuracy: 0.4998 - loss: 0.6931\n",
      "Epoch 9/10\n",
      "\u001b[1m140/140\u001b[0m \u001b[32m━━━━━━━━━━━━━━━━━━━━\u001b[0m\u001b[37m\u001b[0m \u001b[1m8s\u001b[0m 59ms/step - accuracy: 0.4783 - loss: 0.6932\n",
      "Epoch 10/10\n",
      "\u001b[1m140/140\u001b[0m \u001b[32m━━━━━━━━━━━━━━━━━━━━\u001b[0m\u001b[37m\u001b[0m \u001b[1m8s\u001b[0m 60ms/step - accuracy: 0.4880 - loss: 0.6935\n"
     ]
    }
   ],
   "source": [
    "import tensorflow as tf\n",
    "from tensorflow.keras.models import Sequential\n",
    "from tensorflow.keras.layers import LSTM, Dense, Dropout, Embedding\n",
    "\n",
    "vocab_size = 5001 # example value, adjust as per your dataset\n",
    "max_sequence_length = 737  # example value, adjust as necessary\n",
    "\n",
    "model = Sequential([\n",
    "    Embedding(input_dim=vocab_size, output_dim=32, input_length=max_sequence_length),\n",
    "    LSTM(32, dropout=0.2, recurrent_dropout=0.2),  # LSTM layer with dropout\n",
    "    Dense(256, activation='relu'),  # Dense layer with 256 ReLU units\n",
    "    Dropout(0.2),  # Dropout layer after dense layer\n",
    "    Dense(1, activation='sigmoid') \n",
    "])\n",
    "\n",
    "# Compile the model\n",
    "model.compile(optimizer='adam', loss='binary_crossentropy', metrics=['accuracy'])\n",
    "\n",
    "history = model.fit(\n",
    "    padded_sequences,  \n",
    "    train_labels,           \n",
    "    epochs=10,        \n",
    "    batch_size=10,   \n",
    ")\n"
   ]
  },
  {
   "cell_type": "code",
   "execution_count": 20,
   "id": "449625e5-6876-4747-b8c5-5bd682a2ca72",
   "metadata": {
    "tags": []
   },
   "outputs": [
    {
     "name": "stdout",
     "output_type": "stream",
     "text": [
      "\u001b[1m44/44\u001b[0m \u001b[32m━━━━━━━━━━━━━━━━━━━━\u001b[0m\u001b[37m\u001b[0m \u001b[1m1s\u001b[0m 18ms/step - accuracy: 0.8316 - loss: 0.6915\n",
      "\u001b[1m19/19\u001b[0m \u001b[32m━━━━━━━━━━━━━━━━━━━━\u001b[0m\u001b[37m\u001b[0m \u001b[1m0s\u001b[0m 18ms/step - accuracy: 0.8132 - loss: 0.6916\n"
     ]
    },
    {
     "data": {
      "text/plain": [
       "[0.6930835247039795, 0.5016666650772095]"
      ]
     },
     "execution_count": 20,
     "metadata": {},
     "output_type": "execute_result"
    }
   ],
   "source": [
    "model.evaluate(padded_sequences, train_labels)\n",
    "model.evaluate(padded_sequences_test, test_labels)\n",
    "\n"
   ]
  },
  {
   "cell_type": "markdown",
   "id": "f71bcd94-db49-44ad-b892-d61247e6c167",
   "metadata": {},
   "source": [
    "#### Reference\n",
    "1. tf.keras.preprocessing.text.Tokenizer:https://www.tensorflow.org/api_docs/python/tf/keras/preprocessing/text/Tokenizer\n",
    "2. Embedding layer: https://keras.io/api/layers/core_layers/embedding/\n",
    "3. Multi-Layer Perceptron Learning in Tensorflow: https://www.geeksforgeeks.org/multi-layer-perceptron-learning-in-tensorflow/\n",
    "4. GhatGPT"
   ]
  },
  {
   "cell_type": "code",
   "execution_count": null,
   "id": "ab8c00f9-b9a6-4679-8198-3dc3daf56ce3",
   "metadata": {},
   "outputs": [],
   "source": []
  }
 ],
 "metadata": {
  "kernelspec": {
   "display_name": "Python 3 (ipykernel)",
   "language": "python",
   "name": "python3"
  },
  "language_info": {
   "codemirror_mode": {
    "name": "ipython",
    "version": 3
   },
   "file_extension": ".py",
   "mimetype": "text/x-python",
   "name": "python",
   "nbconvert_exporter": "python",
   "pygments_lexer": "ipython3",
   "version": "3.11.5"
  }
 },
 "nbformat": 4,
 "nbformat_minor": 5
}
